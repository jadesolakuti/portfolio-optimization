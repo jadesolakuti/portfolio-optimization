{
 "cells": [
  {
   "cell_type": "code",
   "execution_count": 25,
   "id": "872ca400",
   "metadata": {},
   "outputs": [],
   "source": [
    "import yfinance as yf\n",
    "import pandas as pd\n",
    "from datetime import datetime, timedelta\n",
    "import numpy as np\n",
    "from scipy.optimize import minimize\n"
   ]
  },
  {
   "cell_type": "code",
   "execution_count": 26,
   "id": "ee64280e",
   "metadata": {},
   "outputs": [],
   "source": [
    "tickers = ['AAPL', 'AMZN', 'TSLA', 'MSFT', 'META', 'NVDA', 'GOOG']"
   ]
  },
  {
   "cell_type": "code",
   "execution_count": 27,
   "id": "1a5e177c",
   "metadata": {},
   "outputs": [],
   "source": [
    "end_date = datetime.today()"
   ]
  },
  {
   "cell_type": "code",
   "execution_count": 28,
   "id": "6b112dfd",
   "metadata": {},
   "outputs": [
    {
     "name": "stdout",
     "output_type": "stream",
     "text": [
      "2020-08-30 15:10:35.641016\n"
     ]
    }
   ],
   "source": [
    "start_date = end_date - timedelta(days = 5*365)\n",
    "print(start_date)"
   ]
  },
  {
   "cell_type": "code",
   "execution_count": 29,
   "id": "0ecc9611",
   "metadata": {},
   "outputs": [],
   "source": [
    "adj_close_df = pd.DataFrame()"
   ]
  },
  {
   "cell_type": "code",
   "execution_count": 30,
   "id": "66a8732e",
   "metadata": {},
   "outputs": [
    {
     "name": "stderr",
     "output_type": "stream",
     "text": [
      "C:\\Users\\user\\AppData\\Local\\Temp\\ipykernel_6324\\443678614.py:2: FutureWarning: YF.download() has changed argument auto_adjust default to True\n",
      "  data = yf.download(ticker, start=start_date, end=end_date)\n",
      "[*********************100%***********************]  1 of 1 completed\n",
      "C:\\Users\\user\\AppData\\Local\\Temp\\ipykernel_6324\\443678614.py:2: FutureWarning: YF.download() has changed argument auto_adjust default to True\n",
      "  data = yf.download(ticker, start=start_date, end=end_date)\n",
      "[*********************100%***********************]  1 of 1 completed\n",
      "C:\\Users\\user\\AppData\\Local\\Temp\\ipykernel_6324\\443678614.py:2: FutureWarning: YF.download() has changed argument auto_adjust default to True\n",
      "  data = yf.download(ticker, start=start_date, end=end_date)\n",
      "[*********************100%***********************]  1 of 1 completed\n",
      "C:\\Users\\user\\AppData\\Local\\Temp\\ipykernel_6324\\443678614.py:2: FutureWarning: YF.download() has changed argument auto_adjust default to True\n",
      "  data = yf.download(ticker, start=start_date, end=end_date)\n",
      "[*********************100%***********************]  1 of 1 completed\n",
      "C:\\Users\\user\\AppData\\Local\\Temp\\ipykernel_6324\\443678614.py:2: FutureWarning: YF.download() has changed argument auto_adjust default to True\n",
      "  data = yf.download(ticker, start=start_date, end=end_date)\n",
      "[*********************100%***********************]  1 of 1 completed\n",
      "C:\\Users\\user\\AppData\\Local\\Temp\\ipykernel_6324\\443678614.py:2: FutureWarning: YF.download() has changed argument auto_adjust default to True\n",
      "  data = yf.download(ticker, start=start_date, end=end_date)\n",
      "[*********************100%***********************]  1 of 1 completed\n",
      "C:\\Users\\user\\AppData\\Local\\Temp\\ipykernel_6324\\443678614.py:2: FutureWarning: YF.download() has changed argument auto_adjust default to True\n",
      "  data = yf.download(ticker, start=start_date, end=end_date)\n",
      "[*********************100%***********************]  1 of 1 completed\n"
     ]
    }
   ],
   "source": [
    "for ticker in tickers:\n",
    "    data = yf.download(ticker, start=start_date, end=end_date)\n",
    "    adj_close_df[ticker] = data['Close']\n",
    "    # print(ticker, data.columns)"
   ]
  },
  {
   "cell_type": "code",
   "execution_count": 31,
   "id": "fa41ef43",
   "metadata": {},
   "outputs": [
    {
     "name": "stdout",
     "output_type": "stream",
     "text": [
      "                  AAPL        AMZN        TSLA        MSFT        META  \\\n",
      "Date                                                                     \n",
      "2020-08-31  125.519501  172.548004  166.106674  216.243896  291.600250   \n",
      "2020-09-01  130.519257  174.955994  158.350006  217.912247  293.828064   \n",
      "2020-09-02  127.815109  176.572495  149.123337  222.111877  300.849518   \n",
      "2020-09-03  117.582123  168.399994  135.666672  208.352753  289.531586   \n",
      "2020-09-04  117.659935  164.731003  139.440002  205.428375  281.187408   \n",
      "...                ...         ...         ...         ...         ...   \n",
      "2025-08-25  227.160004  227.940002  346.600006  504.260010  753.299988   \n",
      "2025-08-26  229.309998  228.710007  351.670013  502.040009  754.099976   \n",
      "2025-08-27  230.490005  229.119995  349.600006  506.739990  747.380005   \n",
      "2025-08-28  232.559998  231.600006  345.980011  509.640015  751.109985   \n",
      "2025-08-29  231.949997  230.029999  339.890015  505.200012  738.909973   \n",
      "\n",
      "                  NVDA        GOOG  \n",
      "Date                                \n",
      "2020-08-31   13.330562   81.226181  \n",
      "2020-09-01   13.779716   82.544846  \n",
      "2020-09-02   14.303647   85.903374  \n",
      "2020-09-03   12.976621   81.606918  \n",
      "2020-09-04   12.584796   79.081932  \n",
      "...                ...         ...  \n",
      "2025-08-25  179.809998  209.160004  \n",
      "2025-08-26  181.770004  207.949997  \n",
      "2025-08-27  181.600006  208.210007  \n",
      "2025-08-28  180.169998  212.369995  \n",
      "2025-08-29  174.320007  212.250000  \n",
      "\n",
      "[1256 rows x 7 columns]\n"
     ]
    }
   ],
   "source": [
    "print(adj_close_df)"
   ]
  },
  {
   "cell_type": "code",
   "execution_count": 32,
   "id": "05a3cf2c",
   "metadata": {},
   "outputs": [],
   "source": [
    "log_returns = np.log(adj_close_df / adj_close_df.shift(1))"
   ]
  },
  {
   "cell_type": "code",
   "execution_count": 33,
   "id": "046674c0",
   "metadata": {},
   "outputs": [],
   "source": [
    "log_returns = log_returns.dropna()"
   ]
  },
  {
   "cell_type": "code",
   "execution_count": 34,
   "id": "ce5c475d",
   "metadata": {},
   "outputs": [
    {
     "name": "stdout",
     "output_type": "stream",
     "text": [
      "          AAPL      AMZN      TSLA      MSFT      META      NVDA      GOOG\n",
      "AAPL  0.085268  0.061385  0.092706  0.051283  0.065106  0.083128  0.052787\n",
      "AMZN  0.061385  0.125454  0.098645  0.064428  0.096565  0.107406  0.070677\n",
      "TSLA  0.092706  0.098645  0.392766  0.071603  0.094268  0.155859  0.077811\n",
      "MSFT  0.051283  0.064428  0.071603  0.070064  0.069876  0.089694  0.055871\n",
      "META  0.065106  0.096565  0.094268  0.069876  0.195183  0.117637  0.080381\n",
      "NVDA  0.083128  0.107406  0.155859  0.089694  0.117637  0.273818  0.088558\n",
      "GOOG  0.052787  0.070677  0.077811  0.055871  0.080381  0.088558  0.095445\n"
     ]
    }
   ],
   "source": [
    "cov_matrix = log_returns.cov()*252 \n",
    "#there are about 252 trading days in a year so this line gives you annual covariance\n",
    "print(cov_matrix)"
   ]
  },
  {
   "cell_type": "code",
   "execution_count": null,
   "id": "8da65967",
   "metadata": {},
   "outputs": [],
   "source": [
    "def standard_deviation(weights, cov_matrix):\n",
    "    variance = weights.T @ cov_matrix @ weights #@ is used for matrix multiplication\n",
    "    return np.sqrt(variance)\n",
    "\n",
    "#standard deviation is the profolio's volatility"
   ]
  },
  {
   "cell_type": "code",
   "execution_count": null,
   "id": "10ec80f3",
   "metadata": {},
   "outputs": [],
   "source": [
    "def expected_return(weights, log_returns):\n",
    "    return np.sum(log_returns.mean()*weights)*252\n",
    "\n",
    "#this is weighted average of mean returns(annualized)"
   ]
  },
  {
   "cell_type": "code",
   "execution_count": null,
   "id": "ecf8eca6",
   "metadata": {},
   "outputs": [],
   "source": [
    "def sharpe_ratio(weights, log_returns, cov_matrix, risk_free_rate):\n",
    "    return (expected_return(weights, log_returns) - risk_free_rate) / standard_deviation(weights, cov_matrix)\n",
    "\n",
    "#sharpe ratio is the risk adjusted return, it tells you how much excess return you get per unit of risk\n",
    "#higher=better\n",
    "#it is relevant for performance evaluation when comparing mutually exclusive portfolios"
   ]
  },
  {
   "cell_type": "code",
   "execution_count": null,
   "id": "c65a78b8",
   "metadata": {},
   "outputs": [
    {
     "name": "stdout",
     "output_type": "stream",
     "text": [
      "0.043899999999999995\n"
     ]
    }
   ],
   "source": [
    "from fredapi import Fred #Fred is a database that stores thousands of US economic time series.\n",
    "fred = Fred(api_key='474454b35638670b136ca852f45b70d1')\n",
    "ten_year_treasury_rate = fred.get_series_latest_release('GS10') / 100\n",
    "\n",
    "risk_free_rate = ten_year_treasury_rate.iloc[-1] \n",
    "#.iloc[-1] means to take the last element in the series\n",
    "print(risk_free_rate)\n",
    "\n",
    "#treasuries are risk-free benchmarks. They are usually owned by the government. T-bills"
   ]
  },
  {
   "cell_type": "code",
   "execution_count": null,
   "id": "fa95d19f",
   "metadata": {},
   "outputs": [],
   "source": [
    "def neg_sharpe_ratio(weights, log_returns, cov_matrix, risk_free_rate):\n",
    "    return -sharpe_ratio(weights, log_returns, cov_matrix, risk_free_rate)\n",
    "\n",
    "#Why negative? Because minimize() in SciPy only minimizes functions. \n",
    "#So to maximize Sharpe, you minimize its negative."
   ]
  },
  {
   "cell_type": "code",
   "execution_count": null,
   "id": "9d0a15d6",
   "metadata": {},
   "outputs": [],
   "source": [
    "constraints = {'type': 'eq', 'fun' : lambda weights: np.sum(weights) - 1}\n",
    "bounds = [(0, 0.5) for _ in range(len(tickers))]\n",
    "\n",
    "# Constraint: portfolio fully invested (weights sum to 1), ie fun(weights) -> np.sum(weights) == 1\n",
    "# Bounds: each stock between 0% and 50% of portfolio (no short selling, no overweighting).\n"
   ]
  },
  {
   "cell_type": "code",
   "execution_count": null,
   "id": "a32b12a4",
   "metadata": {},
   "outputs": [
    {
     "name": "stdout",
     "output_type": "stream",
     "text": [
      "[0.14285714 0.14285714 0.14285714 0.14285714 0.14285714 0.14285714\n",
      " 0.14285714]\n"
     ]
    }
   ],
   "source": [
    "initial_weights = np.array([1/len(tickers)]*len(tickers))\n",
    "print(initial_weights)\n",
    "#This creates an array that repeats that value for each asset, ie they have equal weights\n",
    "#This line creates your initial guess of portfolio weights, assuming you distribute your money equally across all tickers. \n",
    "#Later, optimization will adjust these weights to improve expected return vs risk."
   ]
  },
  {
   "cell_type": "code",
   "execution_count": null,
   "id": "4f5a7a99",
   "metadata": {},
   "outputs": [],
   "source": [
    "optimized_results = minimize(neg_sharpe_ratio, initial_weights, args=(log_returns, cov_matrix, risk_free_rate), method='SLSQP', constraints=constraints, bounds=bounds)\n",
    "\n",
    "\n",
    "# minimize(...) comes from scipy.optimize.\n",
    "# Its job: find values of variables (here, portfolio weights) that minimize a function.\n",
    "# Since optimization algorithms usually minimize by default, but we want to maximize the Sharpe ratio, we minimize the negative Sharpe ratio instead.\n",
    "# That’s why the function is neg_sharpe_ratio.\n",
    "\n",
    "# initial_weights - This is the starting point for the optimizer.\n",
    "# Example: If you have 3 stocks, you might start with [0.33, 0.33, 0.34].\n",
    "# The algorithm will then tweak these values to search for better ones.\n",
    "\n",
    "# args=(log_returns, cov_matrix, risk_free_rate) - These are extra inputs passed into the neg_sharpe_ratio function.\n",
    "# When minimize calls neg_sharpe_ratio(weights, log_returns, cov_matrix, risk_free_rate), it tries different weights but keeps the other values fixed:\n",
    "# log_returns = matrix of historical returns\n",
    "# cov_matrix = covariance matrix of returns (used for risk calculation)\n",
    "# risk_free_rate = safe benchmark return\n",
    "\n",
    "# method='SLSQP'\n",
    "# This means Sequential Least Squares Quadratic Programming.\n",
    "# A common algorithm for portfolio optimization because it handles both bounds and constraints well\n",
    "# and it works with smooth functions like variance.\n",
    "\n",
    "# optimized_results\n",
    "# The output object returned by minimize.\n",
    "# It contains useful info:\n",
    "# optimized_results.x → the optimized weights\n",
    "# optimized_results.fun → the minimized value (here, the negative Sharpe)\n",
    "# optimized_results.success → whether optimization worked\n",
    "\n",
    "# In plain finance terms:\n",
    "# This line is where the computer takes your equal-weight portfolio, \n",
    "# and systematically adjusts the allocations \n",
    "# (under the rules you gave: weights between 0–1 and must sum to 1) \n",
    "# until it finds the portfolio with the highest risk-adjusted return (Sharpe ratio)."
   ]
  },
  {
   "cell_type": "code",
   "execution_count": 43,
   "id": "3e80a856",
   "metadata": {},
   "outputs": [],
   "source": [
    "optimal_weights = optimized_results.x"
   ]
  },
  {
   "cell_type": "code",
   "execution_count": 44,
   "id": "078cb7f3",
   "metadata": {},
   "outputs": [
    {
     "name": "stdout",
     "output_type": "stream",
     "text": [
      "Optimal weights:\n",
      "AAPL: 0.0000\n",
      "AMZN: 0.0000\n",
      "TSLA: 0.0000\n",
      "MSFT: 0.1782\n",
      "META: 0.0000\n",
      "NVDA: 0.5000\n",
      "GOOG: 0.3218\n",
      "\n",
      "Expected Annual Return: 0.3505\n",
      "Expected Volatility: 0.3626\n",
      "Sharpe Ratio: 0.8457\n"
     ]
    }
   ],
   "source": [
    "print(\"Optimal weights:\")\n",
    "for ticker, weight in zip(tickers, optimal_weights):\n",
    "    print(f\"{ticker}: {weight:.4f}\")\n",
    "\n",
    "print()\n",
    "\n",
    "optimal_portfolio_return = expected_return(optimal_weights, log_returns)\n",
    "optimal_portfolio_volatility = standard_deviation(optimal_weights, cov_matrix)\n",
    "optimal_sharpe_ratio = sharpe_ratio(optimal_weights, log_returns, cov_matrix, risk_free_rate)\n",
    "\n",
    "print(f\"Expected Annual Return: {optimal_portfolio_return:.4f}\")\n",
    "print(f\"Expected Volatility: {optimal_portfolio_volatility:.4f}\")\n",
    "print(f\"Sharpe Ratio: {optimal_sharpe_ratio:.4f}\")"
   ]
  },
  {
   "cell_type": "code",
   "execution_count": 46,
   "id": "25e48a28",
   "metadata": {},
   "outputs": [
    {
     "data": {
      "image/png": "[encoded data removed]",
      "text/plain": [
       "<Figure size 1000x600 with 1 Axes>"
      ]
     },
     "metadata": {},
     "output_type": "display_data"
    }
   ],
   "source": [
    "import matplotlib.pyplot as plt\n",
    "\n",
    "plt.figure(figsize=(10, 6))\n",
    "plt.bar(tickers, optimal_weights)\n",
    "\n",
    "plt.xlabel(\"Assets\")\n",
    "plt.ylabel(\"Optimal Weights\")\n",
    "plt.title(\"Optimal portfolio weights\")\n",
    "\n",
    "plt.show()"
   ]
  },
  {
   "cell_type": "code",
   "execution_count": null,
   "id": "10df4a66",
   "metadata": {},
   "outputs": [],
   "source": [
    "# Your tickers list = investment universe (the menu).\n",
    "\n",
    "# Weights = how much of your money in each asset.\n",
    "\n",
    "# Expected return = what the portfolio should earn annually, on average.\n",
    "\n",
    "# Volatility = risk (standard deviation of returns).\n",
    "\n",
    "# Covariance matrix = how assets interact (the math behind diversification).\n",
    "\n",
    "# Sharpe ratio = reward-to-risk tradeoff.\n",
    "\n",
    "# Optimization = finds the portfolio that maximizes Sharpe, subject to your rules (constraints/bounds).\n",
    "\n",
    "# Plot = visualization of allocation strategy."
   ]
  }
 ],
 "metadata": {
  "kernelspec": {
   "display_name": "penv",
   "language": "python",
   "name": "python3"
  },
  "language_info": {
   "codemirror_mode": {
    "name": "ipython",
    "version": 3
   },
   "file_extension": ".py",
   "mimetype": "text/x-python",
   "name": "python",
   "nbconvert_exporter": "python",
   "pygments_lexer": "ipython3",
   "version": "3.13.5"
  }
 },
 "nbformat": 4,
 "nbformat_minor": 5
}
